{
  "cells": [
    {
      "cell_type": "markdown",
      "metadata": {
        "id": "zpNremdFKzd7"
      },
      "source": [
        "Libraries"
      ]
    },
    {
      "cell_type": "code",
      "execution_count": null,
      "metadata": {
        "id": "xBoYSVwpgAO-"
      },
      "outputs": [],
      "source": [
        "from sklearn.linear_model import Ridge\n",
        "import pandas as pd\n",
        "import numpy as np\n",
        "from sklearn.compose import ColumnTransformer\n",
        "from sklearn.model_selection import train_test_split\n",
        "from sklearn.pipeline import make_pipeline\n",
        "from sklearn.preprocessing import OneHotEncoder, PolynomialFeatures, StandardScaler\n",
        "from sklearn.metrics import mean_absolute_error, mean_squared_error, r2_score, mean_squared_log_error\n",
        "import matplotlib.pyplot as plt"
      ]
    },
    {
      "cell_type": "markdown",
      "source": [
        "NOTE: Program is set up for AB_US_2023.csv. If using AB_Nashville.csv, rename the file read in below and delete 'city' from categorical_features. The Nashville results tend to be predicted more accurately using this model"
      ],
      "metadata": {
        "id": "pbnkLouc4IeZ"
      }
    },
    {
      "cell_type": "code",
      "execution_count": null,
      "metadata": {
        "colab": {
          "base_uri": "https://localhost:8080/",
          "height": 72
        },
        "id": "xeiRLBJjzFPx",
        "outputId": "75b705d0-1e83-4706-ad63-56974f086347"
      },
      "outputs": [
        {
          "output_type": "display_data",
          "data": {
            "text/plain": [
              "<IPython.core.display.HTML object>"
            ],
            "text/html": [
              "\n",
              "     <input type=\"file\" id=\"files-07e636d9-b7c8-461e-8af3-575d827a37b6\" name=\"files[]\" multiple disabled\n",
              "        style=\"border:none\" />\n",
              "     <output id=\"result-07e636d9-b7c8-461e-8af3-575d827a37b6\">\n",
              "      Upload widget is only available when the cell has been executed in the\n",
              "      current browser session. Please rerun this cell to enable.\n",
              "      </output>\n",
              "      <script>// Copyright 2017 Google LLC\n",
              "//\n",
              "// Licensed under the Apache License, Version 2.0 (the \"License\");\n",
              "// you may not use this file except in compliance with the License.\n",
              "// You may obtain a copy of the License at\n",
              "//\n",
              "//      http://www.apache.org/licenses/LICENSE-2.0\n",
              "//\n",
              "// Unless required by applicable law or agreed to in writing, software\n",
              "// distributed under the License is distributed on an \"AS IS\" BASIS,\n",
              "// WITHOUT WARRANTIES OR CONDITIONS OF ANY KIND, either express or implied.\n",
              "// See the License for the specific language governing permissions and\n",
              "// limitations under the License.\n",
              "\n",
              "/**\n",
              " * @fileoverview Helpers for google.colab Python module.\n",
              " */\n",
              "(function(scope) {\n",
              "function span(text, styleAttributes = {}) {\n",
              "  const element = document.createElement('span');\n",
              "  element.textContent = text;\n",
              "  for (const key of Object.keys(styleAttributes)) {\n",
              "    element.style[key] = styleAttributes[key];\n",
              "  }\n",
              "  return element;\n",
              "}\n",
              "\n",
              "// Max number of bytes which will be uploaded at a time.\n",
              "const MAX_PAYLOAD_SIZE = 100 * 1024;\n",
              "\n",
              "function _uploadFiles(inputId, outputId) {\n",
              "  const steps = uploadFilesStep(inputId, outputId);\n",
              "  const outputElement = document.getElementById(outputId);\n",
              "  // Cache steps on the outputElement to make it available for the next call\n",
              "  // to uploadFilesContinue from Python.\n",
              "  outputElement.steps = steps;\n",
              "\n",
              "  return _uploadFilesContinue(outputId);\n",
              "}\n",
              "\n",
              "// This is roughly an async generator (not supported in the browser yet),\n",
              "// where there are multiple asynchronous steps and the Python side is going\n",
              "// to poll for completion of each step.\n",
              "// This uses a Promise to block the python side on completion of each step,\n",
              "// then passes the result of the previous step as the input to the next step.\n",
              "function _uploadFilesContinue(outputId) {\n",
              "  const outputElement = document.getElementById(outputId);\n",
              "  const steps = outputElement.steps;\n",
              "\n",
              "  const next = steps.next(outputElement.lastPromiseValue);\n",
              "  return Promise.resolve(next.value.promise).then((value) => {\n",
              "    // Cache the last promise value to make it available to the next\n",
              "    // step of the generator.\n",
              "    outputElement.lastPromiseValue = value;\n",
              "    return next.value.response;\n",
              "  });\n",
              "}\n",
              "\n",
              "/**\n",
              " * Generator function which is called between each async step of the upload\n",
              " * process.\n",
              " * @param {string} inputId Element ID of the input file picker element.\n",
              " * @param {string} outputId Element ID of the output display.\n",
              " * @return {!Iterable<!Object>} Iterable of next steps.\n",
              " */\n",
              "function* uploadFilesStep(inputId, outputId) {\n",
              "  const inputElement = document.getElementById(inputId);\n",
              "  inputElement.disabled = false;\n",
              "\n",
              "  const outputElement = document.getElementById(outputId);\n",
              "  outputElement.innerHTML = '';\n",
              "\n",
              "  const pickedPromise = new Promise((resolve) => {\n",
              "    inputElement.addEventListener('change', (e) => {\n",
              "      resolve(e.target.files);\n",
              "    });\n",
              "  });\n",
              "\n",
              "  const cancel = document.createElement('button');\n",
              "  inputElement.parentElement.appendChild(cancel);\n",
              "  cancel.textContent = 'Cancel upload';\n",
              "  const cancelPromise = new Promise((resolve) => {\n",
              "    cancel.onclick = () => {\n",
              "      resolve(null);\n",
              "    };\n",
              "  });\n",
              "\n",
              "  // Wait for the user to pick the files.\n",
              "  const files = yield {\n",
              "    promise: Promise.race([pickedPromise, cancelPromise]),\n",
              "    response: {\n",
              "      action: 'starting',\n",
              "    }\n",
              "  };\n",
              "\n",
              "  cancel.remove();\n",
              "\n",
              "  // Disable the input element since further picks are not allowed.\n",
              "  inputElement.disabled = true;\n",
              "\n",
              "  if (!files) {\n",
              "    return {\n",
              "      response: {\n",
              "        action: 'complete',\n",
              "      }\n",
              "    };\n",
              "  }\n",
              "\n",
              "  for (const file of files) {\n",
              "    const li = document.createElement('li');\n",
              "    li.append(span(file.name, {fontWeight: 'bold'}));\n",
              "    li.append(span(\n",
              "        `(${file.type || 'n/a'}) - ${file.size} bytes, ` +\n",
              "        `last modified: ${\n",
              "            file.lastModifiedDate ? file.lastModifiedDate.toLocaleDateString() :\n",
              "                                    'n/a'} - `));\n",
              "    const percent = span('0% done');\n",
              "    li.appendChild(percent);\n",
              "\n",
              "    outputElement.appendChild(li);\n",
              "\n",
              "    const fileDataPromise = new Promise((resolve) => {\n",
              "      const reader = new FileReader();\n",
              "      reader.onload = (e) => {\n",
              "        resolve(e.target.result);\n",
              "      };\n",
              "      reader.readAsArrayBuffer(file);\n",
              "    });\n",
              "    // Wait for the data to be ready.\n",
              "    let fileData = yield {\n",
              "      promise: fileDataPromise,\n",
              "      response: {\n",
              "        action: 'continue',\n",
              "      }\n",
              "    };\n",
              "\n",
              "    // Use a chunked sending to avoid message size limits. See b/62115660.\n",
              "    let position = 0;\n",
              "    do {\n",
              "      const length = Math.min(fileData.byteLength - position, MAX_PAYLOAD_SIZE);\n",
              "      const chunk = new Uint8Array(fileData, position, length);\n",
              "      position += length;\n",
              "\n",
              "      const base64 = btoa(String.fromCharCode.apply(null, chunk));\n",
              "      yield {\n",
              "        response: {\n",
              "          action: 'append',\n",
              "          file: file.name,\n",
              "          data: base64,\n",
              "        },\n",
              "      };\n",
              "\n",
              "      let percentDone = fileData.byteLength === 0 ?\n",
              "          100 :\n",
              "          Math.round((position / fileData.byteLength) * 100);\n",
              "      percent.textContent = `${percentDone}% done`;\n",
              "\n",
              "    } while (position < fileData.byteLength);\n",
              "  }\n",
              "\n",
              "  // All done.\n",
              "  yield {\n",
              "    response: {\n",
              "      action: 'complete',\n",
              "    }\n",
              "  };\n",
              "}\n",
              "\n",
              "scope.google = scope.google || {};\n",
              "scope.google.colab = scope.google.colab || {};\n",
              "scope.google.colab._files = {\n",
              "  _uploadFiles,\n",
              "  _uploadFilesContinue,\n",
              "};\n",
              "})(self);\n",
              "</script> "
            ]
          },
          "metadata": {}
        },
        {
          "output_type": "stream",
          "name": "stdout",
          "text": [
            "Saving AB_US_2023.csv to AB_US_2023.csv\n"
          ]
        }
      ],
      "source": [
        "from google.colab import files\n",
        "uploaded = files.upload()"
      ]
    },
    {
      "cell_type": "markdown",
      "source": [
        "Reading in the dataset"
      ],
      "metadata": {
        "id": "_QJxVdqPYs45"
      }
    },
    {
      "cell_type": "code",
      "execution_count": null,
      "metadata": {
        "id": "ogg54rPW8Hcx"
      },
      "outputs": [],
      "source": [
        "df = pd.read_csv('AB_US_2023.csv', sep=None, engine = 'python')"
      ]
    },
    {
      "cell_type": "markdown",
      "source": [
        "Organizing the columns used in the prediction process and removing columns not utilized (Name, id, host, etc)"
      ],
      "metadata": {
        "id": "AsnqTsiIYZ1-"
      }
    },
    {
      "cell_type": "code",
      "execution_count": null,
      "metadata": {
        "id": "O8DTot4tqbKi"
      },
      "outputs": [],
      "source": [
        "#print(df.describe())\n",
        "# Convert 'last_review' to datetime and fill NaNs for 'reviews_per_month'\n",
        "df['last_review'] = pd.to_datetime(df['last_review'], errors='coerce')\n",
        "df['reviews_per_month'] = df['reviews_per_month'].fillna(0)\n",
        "# Reference date as the max last review date\n",
        "reference_date = df['last_review'].max()\n",
        "\n",
        "# Pull month and year from the last review\n",
        "df['year'] = (df['last_review'].dt.year).fillna(0)\n",
        "df['month'] = (df['last_review'].dt.month).fillna(0)\n",
        "\n",
        "# Calculate days since last review and fill nan values\n",
        "df['days_since_last_review'] = (reference_date - df['last_review']).dt.days\n",
        "df['days_since_last_review'] = df['days_since_last_review'].fillna(df['days_since_last_review'].max() + 1)\n",
        "\n",
        "# Drop columns that won't be used as features\n",
        "drop_columns = ['id', 'name', 'host_id', 'host_name', 'last_review', 'neighbourhood_group', 'neighbourhood']\n",
        "df = df.drop(columns=drop_columns)\n",
        "#print(df.head())\n",
        "#print(df.tail())\n",
        "\n",
        "# Convert the target column (price) to log(price)\n",
        "df['log_price'] = np.log1p(df['price'])\n",
        "\n",
        "# Remove outliers in the 'log_price' column (log-prices that are beyond the 95th percentile)\n",
        "upper_log_limit = df['log_price'].quantile(0.95)\n",
        "df = df[df['log_price'] <= upper_log_limit]\n",
        "\n",
        "# Prepare the numerical/categorical data for preprocessing\n",
        "# REMOVE CITY HERE IF DATASET IS CHANGED TO AB_Nashville.csv\n",
        "categorical_features = ['room_type', 'city']\n",
        "numerical_features = df.select_dtypes(include=['int64', 'float64']).columns.tolist()\n",
        "\n",
        "# Removing the target variable from the numerical features list\n",
        "numerical_features.remove('log_price')\n"
      ]
    },
    {
      "cell_type": "markdown",
      "source": [
        "Graph the numerical data from the dataset"
      ],
      "metadata": {
        "id": "7uDpfw9thh7j"
      }
    },
    {
      "cell_type": "code",
      "source": [
        "'''\n",
        "import seaborn as sns\n",
        "\n",
        "# Calculate correlation matrix\n",
        "corr = df[numerical_features + ['log_price']].corr()\n",
        "\n",
        "# Plot heatmap\n",
        "plt.figure(figsize=(10, 8))\n",
        "sns.heatmap(corr, annot=True, fmt=\".2f\", cmap='coolwarm')\n",
        "plt.title('Correlation Matrix')\n",
        "plt.show()\n",
        "'''"
      ],
      "metadata": {
        "colab": {
          "base_uri": "https://localhost:8080/",
          "height": 52
        },
        "id": "9x_atreihnGt",
        "outputId": "faced720-b499-45c7-cc2e-1ce5f6647b3a"
      },
      "execution_count": null,
      "outputs": [
        {
          "output_type": "execute_result",
          "data": {
            "text/plain": [
              "'\\nimport seaborn as sns\\n\\n# Calculate correlation matrix\\ncorr = df[numerical_features + [\\'log_price\\']].corr()\\n\\n# Plot heatmap\\nplt.figure(figsize=(10, 8))\\nsns.heatmap(corr, annot=True, fmt=\".2f\", cmap=\\'coolwarm\\')\\nplt.title(\\'Correlation Matrix\\')\\nplt.show()\\n'"
            ],
            "application/vnd.google.colaboratory.intrinsic+json": {
              "type": "string"
            }
          },
          "metadata": {},
          "execution_count": 53
        }
      ]
    },
    {
      "cell_type": "markdown",
      "source": [
        "Encode the column data and set up the ML pipeline"
      ],
      "metadata": {
        "id": "ZDHbcv_dZkE7"
      }
    },
    {
      "cell_type": "code",
      "execution_count": null,
      "metadata": {
        "id": "ZwG3MXB2dOPh"
      },
      "outputs": [],
      "source": [
        "# Encode the different types of column data\n",
        "preprocessor = ColumnTransformer(\n",
        "    transformers=[\n",
        "        ('num', StandardScaler(), numerical_features),\n",
        "        ('cat', OneHotEncoder(), categorical_features)])\n",
        "\n",
        "# Set up ML pipeline based on ridge regression\n",
        "model = make_pipeline(\n",
        "    preprocessor,\n",
        "    PolynomialFeatures(degree=2, include_bias=False),\n",
        "    Ridge(alpha=1.0)\n",
        ")\n",
        "\n",
        "X = df.drop('log_price', axis=1)  # Features: all columns except price\n",
        "y = df['log_price']               # Target Variable: price\n"
      ]
    },
    {
      "cell_type": "markdown",
      "source": [
        "Train/test/validate and model performance metrics"
      ],
      "metadata": {
        "id": "X3e1xbX1Z9Br"
      }
    },
    {
      "cell_type": "code",
      "execution_count": null,
      "metadata": {
        "id": "NMS0QBxfveCj",
        "colab": {
          "base_uri": "https://localhost:8080/"
        },
        "outputId": "427df435-fd97-47cb-83ca-3676118663b4"
      },
      "outputs": [
        {
          "output_type": "stream",
          "name": "stdout",
          "text": [
            "Validation Set Metrics:\n",
            "MAE: 13.2941985218033\n",
            "MSE: 1084.7055357867469\n",
            "RMSE: 32.93486808515782\n",
            "R^2: 0.9279158947170831\n",
            "\n",
            "Test Set Metrics:\n",
            "MAE: 13.055811799084434\n",
            "MSE: 700.1884736489897\n",
            "RMSE: 26.461074688095902\n",
            "R^2: 0.9526948625470169\n",
            "\n",
            "Additional Metrics:\n",
            "Validation RMSLE: 0.01212555223445753\n",
            "Test RMSLE: 0.012248341298920938\n"
          ]
        }
      ],
      "source": [
        "# Train/test/validation sets based on an 80-10-10 split\n",
        "X_train, X_temp, y_train, y_temp = train_test_split(X, y, test_size=0.2, random_state=42)\n",
        "X_val, X_test, y_val, y_test = train_test_split(X_temp, y_temp, test_size=0.5, random_state=42)\n",
        "\n",
        "# Fit the model to the training data\n",
        "model.fit(X_train, y_train)\n",
        "\n",
        "# Predict on the validation set and re-transform from log to original scale\n",
        "y_val_pred = np.expm1(model.predict(X_val))\n",
        "y_val_actual = np.expm1(y_val)\n",
        "\n",
        "# Predict on the test set and re-transform from log to original scale\n",
        "y_test_pred = np.expm1(model.predict(X_test))\n",
        "y_test_actual = np.expm1(y_test)\n",
        "\n",
        "# Calculate metrics for the validation set\n",
        "val_mae = mean_absolute_error(y_val_actual, y_val_pred)\n",
        "val_mse = mean_squared_error(y_val_actual, y_val_pred)\n",
        "val_rmse = mean_squared_error(y_val_actual, y_val_pred, squared=False)\n",
        "val_r2 = r2_score(y_val_actual, y_val_pred)\n",
        "\n",
        "print(f\"Validation Set Metrics:\")\n",
        "print(f\"MAE: {val_mae}\")\n",
        "print(f\"MSE: {val_mse}\")\n",
        "print(f\"RMSE: {val_rmse}\")\n",
        "print(f\"R^2: {val_r2}\")\n",
        "\n",
        "\n",
        "# Calculate metrics for the test set\n",
        "test_mae = mean_absolute_error(y_test_actual, y_test_pred)\n",
        "test_mse = mean_squared_error(y_test_actual, y_test_pred)\n",
        "test_rmse = mean_squared_error(y_test_actual, y_test_pred, squared=False)\n",
        "test_r2 = r2_score(y_test_actual, y_test_pred)\n",
        "\n",
        "print(f\"\\nTest Set Metrics:\")\n",
        "print(f\"MAE: {test_mae}\")\n",
        "print(f\"MSE: {test_mse}\")\n",
        "print(f\"RMSE: {test_rmse}\")\n",
        "print(f\"R^2: {test_r2}\")\n",
        "\n",
        "# Additional metrics\n",
        "val_rmsle = mean_squared_log_error(y_val_actual, y_val_pred)\n",
        "test_rmsle = mean_squared_log_error(y_test_actual, y_test_pred)\n",
        "\n",
        "print(f\"\\nAdditional Metrics:\")\n",
        "print(f\"Validation RMSLE: {val_rmsle}\")\n",
        "print(f\"Test RMSLE: {test_rmsle}\")"
      ]
    },
    {
      "cell_type": "markdown",
      "source": [
        "Graphing and analyzing the model's predictions\n"
      ],
      "metadata": {
        "id": "7aSeMXaCaTWc"
      }
    },
    {
      "cell_type": "code",
      "execution_count": null,
      "metadata": {
        "colab": {
          "base_uri": "https://localhost:8080/",
          "height": 851
        },
        "id": "2sTTzP771Yly",
        "outputId": "30564f9b-de9b-4dd7-c076-3f2ca0317456"
      },
      "outputs": [
        {
          "output_type": "display_data",
          "data": {
            "text/plain": [
              "<Figure size 1200x600 with 2 Axes>"
            ],
            "image/png": "[encoded data removed]"
          },
          "metadata": {}
        },
        {
          "output_type": "stream",
          "name": "stdout",
          "text": [
            "count    22055.000000\n",
            "mean        -1.286787\n",
            "std         32.910467\n",
            "min      -2685.120584\n",
            "25%         -6.518333\n",
            "50%          2.157255\n",
            "75%          7.052319\n",
            "max        258.013760\n",
            "Name: log_price, dtype: float64\n"
          ]
        },
        {
          "output_type": "execute_result",
          "data": {
            "text/plain": [
              "'\\n# Calculate residuals for the test set\\nresiduals_test = y_test_actual - y_test_pred\\n\\nplt.hist(residuals_val, bins=30, alpha=0.5, color=\\'blue\\', label=\\'Validation\\')\\nplt.hist(residuals_test, bins=30, alpha=0.5, color=\\'red\\', label=\\'Test\\')\\nplt.title(\\'Histogram of Residuals\\')\\nplt.xlabel(\\'Residuals\\')\\nplt.ylabel(\\'Frequency\\')\\nplt.legend()\\nplt.show()\\n\\nimport scipy.stats as stats\\n\\nstats.probplot(residuals_val, dist=\"norm\", plot=plt)\\nplt.title(\\'Q-Q Plot of Validation Residuals\\')\\nplt.show()\\n\\nstats.probplot(residuals_test, dist=\"norm\", plot=plt)\\nplt.title(\\'Q-Q Plot of Test Residuals\\')\\nplt.show()\\n\\nplt.scatter(y_val_pred, residuals_val, alpha=0.5, color=\\'blue\\', label=\\'Validation\\')\\nplt.scatter(y_test_pred, residuals_test, alpha=0.5, color=\\'red\\', label=\\'Test\\')\\nplt.title(\\'Residuals vs. Predicted Values\\')\\nplt.xlabel(\\'Predicted Values\\')\\nplt.ylabel(\\'Residuals\\')\\nplt.axhline(y=0, color=\\'black\\', linestyle=\\'--\\')\\nplt.legend()\\nplt.show()\\n'"
            ],
            "application/vnd.google.colaboratory.intrinsic+json": {
              "type": "string"
            }
          },
          "metadata": {},
          "execution_count": 56
        }
      ],
      "source": [
        "# Plot for the Validation Set\n",
        "plt.figure(figsize=(12, 6))\n",
        "plt.subplot(1, 2, 1)  # 1 row, 2 columns, 1st subplot\n",
        "plt.scatter(y_val_actual, y_val_pred, alpha=0.5, color='blue')\n",
        "plt.plot([np.expm1(y).min(), np.expm1(y).max()], [np.expm1(y).min(), np.expm1(y).max()], 'k--', lw=2)  # Diagonal line for reference\n",
        "plt.title('Validation Set - Actual vs. Predicted Price')\n",
        "plt.xlabel('Actual Price')\n",
        "plt.ylabel('Predicted Price')\n",
        "\n",
        "# Plot for the Test Set\n",
        "plt.subplot(1, 2, 2)  # 1 row, 2 columns, 2nd subplot\n",
        "plt.scatter(y_test_actual, y_test_pred, alpha=0.5, color='red')\n",
        "plt.plot([np.expm1(y).min(), np.expm1(y).max()], [np.expm1(y).min(), np.expm1(y).max()], 'k--', lw=2)  # Diagonal line for reference\n",
        "plt.title('Test Set - Actual vs. Predicted Price')\n",
        "plt.xlabel('Actual Price')\n",
        "plt.ylabel('Predicted Price')\n",
        "\n",
        "plt.tight_layout()\n",
        "plt.show()\n",
        "#print(y_val_actual)\n",
        "\n",
        "# Calculate residuals for the validation set\n",
        "residuals_val = y_val_actual - y_val_pred\n",
        "print(residuals_val.describe())\n",
        "#print(residuals_val.head())\n",
        "#print(residuals_val.tail())\n",
        "'''\n",
        "# Calculate residuals for the test set\n",
        "residuals_test = y_test_actual - y_test_pred\n",
        "\n",
        "plt.hist(residuals_val, bins=30, alpha=0.5, color='blue', label='Validation')\n",
        "plt.hist(residuals_test, bins=30, alpha=0.5, color='red', label='Test')\n",
        "plt.title('Histogram of Residuals')\n",
        "plt.xlabel('Residuals')\n",
        "plt.ylabel('Frequency')\n",
        "plt.legend()\n",
        "plt.show()\n",
        "\n",
        "import scipy.stats as stats\n",
        "\n",
        "stats.probplot(residuals_val, dist=\"norm\", plot=plt)\n",
        "plt.title('Q-Q Plot of Validation Residuals')\n",
        "plt.show()\n",
        "\n",
        "stats.probplot(residuals_test, dist=\"norm\", plot=plt)\n",
        "plt.title('Q-Q Plot of Test Residuals')\n",
        "plt.show()\n",
        "\n",
        "plt.scatter(y_val_pred, residuals_val, alpha=0.5, color='blue', label='Validation')\n",
        "plt.scatter(y_test_pred, residuals_test, alpha=0.5, color='red', label='Test')\n",
        "plt.title('Residuals vs. Predicted Values')\n",
        "plt.xlabel('Predicted Values')\n",
        "plt.ylabel('Residuals')\n",
        "plt.axhline(y=0, color='black', linestyle='--')\n",
        "plt.legend()\n",
        "plt.show()\n",
        "'''\n",
        "\n",
        "\n"
      ]
    },
    {
      "cell_type": "code",
      "source": [
        "'''\n",
        "from sklearn.linear_model import Lasso\n",
        "from sklearn.model_selection import train_test_split\n",
        "from sklearn.metrics import mean_squared_error\n",
        "from sklearn.preprocessing import LabelEncoder\n",
        "'''"
      ],
      "metadata": {
        "id": "wfewRVMNJjun",
        "colab": {
          "base_uri": "https://localhost:8080/",
          "height": 35
        },
        "outputId": "6f1b3a5e-1cd7-4308-ea3c-93efda29439b"
      },
      "execution_count": null,
      "outputs": [
        {
          "output_type": "execute_result",
          "data": {
            "text/plain": [
              "'\\nfrom sklearn.linear_model import Lasso\\nfrom sklearn.model_selection import train_test_split\\nfrom sklearn.metrics import mean_squared_error\\nfrom sklearn.preprocessing import LabelEncoder\\n'"
            ],
            "application/vnd.google.colaboratory.intrinsic+json": {
              "type": "string"
            }
          },
          "metadata": {},
          "execution_count": 57
        }
      ]
    },
    {
      "cell_type": "code",
      "source": [
        "'''\n",
        "label_encoder = LabelEncoder()\n",
        "df['room_type_encoded'] = label_encoder.fit_transform(df['room_type'])\n",
        "df['city_encoded'] = label_encoder.fit_transform(df['city'])\n",
        "df['neighbourhood_encoded'] = label_encoder.fit_transform(df['neighbourhood'])  # Assuming the correct column name is 'neighborhood'\n",
        "'''"
      ],
      "metadata": {
        "id": "6TqPCkQlKNBk",
        "colab": {
          "base_uri": "https://localhost:8080/",
          "height": 52
        },
        "outputId": "91c7ab70-f428-4d32-f581-8704c8dada4f"
      },
      "execution_count": null,
      "outputs": [
        {
          "output_type": "execute_result",
          "data": {
            "text/plain": [
              "\"\\nlabel_encoder = LabelEncoder()\\ndf['room_type_encoded'] = label_encoder.fit_transform(df['room_type'])\\ndf['city_encoded'] = label_encoder.fit_transform(df['city'])\\ndf['neighbourhood_encoded'] = label_encoder.fit_transform(df['neighbourhood'])  # Assuming the correct column name is 'neighborhood'\\n\""
            ],
            "application/vnd.google.colaboratory.intrinsic+json": {
              "type": "string"
            }
          },
          "metadata": {},
          "execution_count": 58
        }
      ]
    },
    {
      "cell_type": "code",
      "source": [
        "'''\n",
        "X = df[['room_type_encoded', 'city_encoded', 'neighbourhood_encoded']]\n",
        "y = df['price']\n",
        "'''"
      ],
      "metadata": {
        "id": "Voh6q6VzKXG2",
        "colab": {
          "base_uri": "https://localhost:8080/",
          "height": 35
        },
        "outputId": "b9b00f83-6c69-4d0c-d76c-ca2a273ea731"
      },
      "execution_count": null,
      "outputs": [
        {
          "output_type": "execute_result",
          "data": {
            "text/plain": [
              "\"\\nX = df[['room_type_encoded', 'city_encoded', 'neighbourhood_encoded']]\\ny = df['price']\\n\""
            ],
            "application/vnd.google.colaboratory.intrinsic+json": {
              "type": "string"
            }
          },
          "metadata": {},
          "execution_count": 59
        }
      ]
    },
    {
      "cell_type": "code",
      "source": [
        "'''\n",
        "X_train, X_test, y_train, y_test = train_test_split(X, y, test_size=0.2, random_state=42)\n",
        "lasso_model = Lasso(alpha=0.1)\n",
        "lasso_model.fit(X_train, y_train)\n",
        "y_pred = lasso_model.predict(X_test)\n",
        "mse = mean_squared_error(y_test, y_pred)\n",
        "'''"
      ],
      "metadata": {
        "id": "4phe4EbqKcc9",
        "colab": {
          "base_uri": "https://localhost:8080/",
          "height": 52
        },
        "outputId": "f9dfe39e-6877-4d62-f086-86baaadf16a4"
      },
      "execution_count": null,
      "outputs": [
        {
          "output_type": "execute_result",
          "data": {
            "text/plain": [
              "'\\nX_train, X_test, y_train, y_test = train_test_split(X, y, test_size=0.2, random_state=42)\\nlasso_model = Lasso(alpha=0.1)\\nlasso_model.fit(X_train, y_train)\\ny_pred = lasso_model.predict(X_test)\\nmse = mean_squared_error(y_test, y_pred)\\n'"
            ],
            "application/vnd.google.colaboratory.intrinsic+json": {
              "type": "string"
            }
          },
          "metadata": {},
          "execution_count": 60
        }
      ]
    },
    {
      "cell_type": "code",
      "source": [
        "'''\n",
        "print(f'Mean Squared Error: {mse}')\n",
        "print(f'Coefficients: {lasso_model.coef_}')\n",
        "'''"
      ],
      "metadata": {
        "colab": {
          "base_uri": "https://localhost:8080/",
          "height": 35
        },
        "id": "jgkAYft7KjDM",
        "outputId": "2186bd8c-fd76-4c71-a456-6793b26fda7c"
      },
      "execution_count": null,
      "outputs": [
        {
          "output_type": "execute_result",
          "data": {
            "text/plain": [
              "\"\\nprint(f'Mean Squared Error: {mse}')\\nprint(f'Coefficients: {lasso_model.coef_}')\\n\""
            ],
            "application/vnd.google.colaboratory.intrinsic+json": {
              "type": "string"
            }
          },
          "metadata": {},
          "execution_count": 61
        }
      ]
    },
    {
      "cell_type": "code",
      "source": [
        "'''\n",
        "r_squared = lasso_model.score(X_test, y_test)\n",
        "print(f\"R-squared: {r_squared}\")\n",
        "'''"
      ],
      "metadata": {
        "colab": {
          "base_uri": "https://localhost:8080/",
          "height": 35
        },
        "id": "ciJ9f9PPQRys",
        "outputId": "0b5d3d74-ac9b-47dd-ad94-9fac1e9cd047"
      },
      "execution_count": null,
      "outputs": [
        {
          "output_type": "execute_result",
          "data": {
            "text/plain": [
              "'\\nr_squared = lasso_model.score(X_test, y_test)\\nprint(f\"R-squared: {r_squared}\")\\n'"
            ],
            "application/vnd.google.colaboratory.intrinsic+json": {
              "type": "string"
            }
          },
          "metadata": {},
          "execution_count": 62
        }
      ]
    },
    {
      "cell_type": "code",
      "source": [
        "#from sklearn.linear_model import ElasticNet"
      ],
      "metadata": {
        "id": "mR8O8E25ReVA"
      },
      "execution_count": null,
      "outputs": []
    },
    {
      "cell_type": "code",
      "source": [
        "'''\n",
        "X_train, X_test, y_train, y_test = train_test_split(X, y, test_size=0.2, random_state=42)\n",
        "elastic_net_model = ElasticNet(alpha=0.1, l1_ratio=0.5)\n",
        "elastic_net_model.fit(X_train, y_train)\n",
        "y_pred = elastic_net_model.predict(X_test)\n",
        "'''"
      ],
      "metadata": {
        "id": "S6pUy9j-RfIr",
        "colab": {
          "base_uri": "https://localhost:8080/",
          "height": 52
        },
        "outputId": "6d71c5fc-683f-4a8c-c1bc-1dd04c96abca"
      },
      "execution_count": null,
      "outputs": [
        {
          "output_type": "execute_result",
          "data": {
            "text/plain": [
              "'\\nX_train, X_test, y_train, y_test = train_test_split(X, y, test_size=0.2, random_state=42)\\nelastic_net_model = ElasticNet(alpha=0.1, l1_ratio=0.5)\\nelastic_net_model.fit(X_train, y_train)\\ny_pred = elastic_net_model.predict(X_test)\\n'"
            ],
            "application/vnd.google.colaboratory.intrinsic+json": {
              "type": "string"
            }
          },
          "metadata": {},
          "execution_count": 64
        }
      ]
    },
    {
      "cell_type": "code",
      "source": [
        "'''\n",
        "mse = mean_squared_error(y_test, y_pred)\n",
        "print(f'Mean Squared Error: {mse}')\n",
        "'''"
      ],
      "metadata": {
        "colab": {
          "base_uri": "https://localhost:8080/",
          "height": 35
        },
        "id": "hoLL2KQxRv6g",
        "outputId": "84e3c054-4788-48e3-ecd2-81506754b1bb"
      },
      "execution_count": null,
      "outputs": [
        {
          "output_type": "execute_result",
          "data": {
            "text/plain": [
              "\"\\nmse = mean_squared_error(y_test, y_pred)\\nprint(f'Mean Squared Error: {mse}')\\n\""
            ],
            "application/vnd.google.colaboratory.intrinsic+json": {
              "type": "string"
            }
          },
          "metadata": {},
          "execution_count": 65
        }
      ]
    }
  ],
  "metadata": {
    "colab": {
      "provenance": []
    },
    "kernelspec": {
      "display_name": "Python 3",
      "name": "python3"
    },
    "language_info": {
      "name": "python"
    }
  },
  "nbformat": 4,
  "nbformat_minor": 0
}
